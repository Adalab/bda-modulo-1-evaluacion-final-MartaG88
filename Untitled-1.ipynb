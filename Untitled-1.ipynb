{
 "cells": [
  {
   "cell_type": "markdown",
   "metadata": {},
   "source": [
    "#Evaluacion modulo1"
   ]
  },
  {
   "cell_type": "markdown",
   "metadata": {},
   "source": [
    "\n",
    "    - La clase `TiendaOnline` debe tener los siguientes atributos:\n",
    "\n",
    "        1. `inventario` (lista de diccionarios): Un atributo para almacenar los productos en el inventario. Cada producto debe ser representado como un diccionario con las siguientes claves: `'nombre'`, `'precio'`, y `'cantidad'`. Al principio deberá ser una lista vacía. Ejemplo de como debería ser:\n",
    "\n",
    "            ```python\n",
    "            [{'nombre': 'Camisa', 'precio': 20, 'cantidad': 40},\n",
    "            {'nombre': 'Pantalón', 'precio': 30, 'cantidad': 30}]\n",
    "            ```\n",
    "\n",
    "        2. `clientes` (diccionario): Un atributo para llevar un registro de los clientes de la tienda. Cada cliente debe ser representado como un diccionario con las siguientes claves: `'nombre'` y `'email'`. Al inicio deberá ser un diccionario vacío. Además, cada cliente debe tener un historial de compras. Deberá parecerse a:\n",
    "\n",
    "            ```python\n",
    "            {'Cliente1': {'email': 'cliente1@email.com', 'compras': []},\n",
    "            'Cliente2': {'email': 'cliente2@email.com', 'compras': []}}\n",
    "            ```\n",
    "\n",
    "        3. `ventas_totales` (float): Un atributo para llevar un registro de las ventas totales de la tienda. Inicializalo con valor 0."
   ]
  },
  {
   "cell_type": "code",
   "execution_count": 7,
   "metadata": {},
   "outputs": [
    {
     "name": "stdout",
     "output_type": "stream",
     "text": [
      "Inventario: []\n",
      "Clientes: {}\n",
      "Clieventas_totales: 0.0\n"
     ]
    }
   ],
   "source": [
    "class TiendaOnline:\n",
    "    def __init__(self):\n",
    "\n",
    "        self.inventario =[]         #Empezamos con dicc vacio\n",
    "        self.clientes = {}          #dicc clientes vacio\n",
    "        self.ventas_totales = 0.0    #ventas totales en 0.0(float)\n",
    "\n",
    "tienda = TiendaOnline()\n",
    "print(\"Inventario:\", tienda.inventario)\n",
    "print(\"Clientes:\", tienda.clientes)\n",
    "print(\"Clieventas_totales:\", tienda.ventas_totales)       #esto lo hago para comprobar si inicialice bien la clase"
   ]
  },
  {
   "cell_type": "code",
   "execution_count": 3,
   "metadata": {},
   "outputs": [
    {
     "name": "stdout",
     "output_type": "stream",
     "text": [
      "Nuevo producto agregado: {'nombre': 'camisa', 'precio': 20, 'cantidad': 40}\n",
      "Nuevo producto agregado: {'nombre': 'pantalon', 'precio': 30, 'cantidad': 30}\n",
      "Inventario correcto es: [{'nombre': 'camisa', 'precio': 20, 'cantidad': 40}, {'nombre': 'pantalon', 'precio': 30, 'cantidad': 30}]\n"
     ]
    }
   ],
   "source": [
    "# Defino la clase TiendaOnline\n",
    "\n",
    "class TiendaOnline:\n",
    "    def __init__(self):\n",
    "        self.inventario = []        # Creamos un inventario vacío al inicio\n",
    "                  \n",
    "    \n",
    "    def agregar_producto(self, nombre, precio, cantidad):     #Metodo para agregar un producto en inventario\n",
    "        # Recorremos el inventario para ver si el producto ya existe en mi lista\n",
    "        for producto in self.inventario:\n",
    "            if producto['nombre'] == nombre:\n",
    "                producto['cantidad'] += cantidad          #si ya existiese actulizamos la cantidad\n",
    "                print(f\"Producto actualizado: {producto}\")  \n",
    "                return                                      #consigo salir del metodo con el return, por que actualice mi producto.(linea anterior +=)\n",
    "      \n",
    "         \n",
    "        nuevo_producto = {'nombre': nombre, 'precio': precio, 'cantidad': cantidad}  # Si no existe, creamos un nuevo producto\n",
    "        self.inventario.append(nuevo_producto)                       #Aqui utilizo un apeend para agregar mi dicc a la lista de inventario.\n",
    "        print(f\"Nuevo producto agregado: {nuevo_producto}\")  # nos muestra el  producto agregado\n",
    "             \n",
    "\n",
    "tienda = TiendaOnline()                   #creo esta instancia para poder crear mis productos camisa ,pantalon.\n",
    "\n",
    "tienda.agregar_producto(\"camisa\", 20, 40)        #Añado  camisa al inventario\n",
    "tienda.agregar_producto(\"pantalon\", 30, 30)       #Añado pantalon al inventario\n",
    "\n",
    "#Imprimo el inentario  de tienda inventario asi sabre siestan bien agregados\n",
    "print(\"Inventario correcto es:\", tienda.inventario)"
   ]
  },
  {
   "cell_type": "code",
   "execution_count": 21,
   "metadata": {},
   "outputs": [
    {
     "ename": "IndentationError",
     "evalue": "unexpected indent (1254845053.py, line 10)",
     "output_type": "error",
     "traceback": [
      "\u001b[0;36m  Cell \u001b[0;32mIn[21], line 10\u001b[0;36m\u001b[0m\n\u001b[0;31m    print(\"El cliente esta registrado con exito:\",{self.clientes[nombre]})\u001b[0m\n\u001b[0m    ^\u001b[0m\n\u001b[0;31mIndentationError\u001b[0m\u001b[0;31m:\u001b[0m unexpected indent\n"
     ]
    }
   ],
   "source": [
    "\n",
    "class TiendaOnline:\n",
    "    def __init__(self):\n",
    "\n",
    "        self.clientes = {}\n",
    "\n",
    "    def registrar_clientes(self, nombre, mail):            #Aqui tengo mi metodo de registrar clientes\n",
    "         \n",
    "        if nombre not in self.clientes: \n",
    "            self.clientes [nombre] = {'mail': mail, 'compras': []}          #Verifico si esta o no en mi dicc de clientes y si no esta...paso a:\n",
    "            \n",
    "            print(\"El cliente esta registrado con exito:\",{self.clientes[nombre]})\n",
    "\n",
    "        else:\n",
    "\n",
    "\n",
    "                                                                    \n",
    "            \n",
    "        \n",
    "         \n",
    "    \n",
    "    \n",
    "               \n",
    "                \n",
    "       \n",
    "\n",
    "\n",
    "\n",
    "\n",
    "\n",
    "\n"
   ]
  }
 ],
 "metadata": {
  "kernelspec": {
   "display_name": "base",
   "language": "python",
   "name": "python3"
  },
  "language_info": {
   "codemirror_mode": {
    "name": "ipython",
    "version": 3
   },
   "file_extension": ".py",
   "mimetype": "text/x-python",
   "name": "python",
   "nbconvert_exporter": "python",
   "pygments_lexer": "ipython3",
   "version": "3.11.7"
  }
 },
 "nbformat": 4,
 "nbformat_minor": 2
}
