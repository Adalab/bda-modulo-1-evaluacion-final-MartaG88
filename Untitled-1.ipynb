{
 "cells": [
  {
   "cell_type": "markdown",
   "metadata": {},
   "source": [
    "#Evaluacion modulo1"
   ]
  },
  {
   "cell_type": "markdown",
   "metadata": {},
   "source": [
    "\n",
    "    - La clase `TiendaOnline` debe tener los siguientes atributos:\n",
    "\n",
    "        1. `inventario` (lista de diccionarios): Un atributo para almacenar los productos en el inventario. Cada producto debe ser representado como un diccionario con las siguientes claves: `'nombre'`, `'precio'`, y `'cantidad'`. Al principio deberá ser una lista vacía. Ejemplo de como debería ser:\n",
    "\n",
    "            ```python\n",
    "            [{'nombre': 'Camisa', 'precio': 20, 'cantidad': 40},\n",
    "            {'nombre': 'Pantalón', 'precio': 30, 'cantidad': 30}]\n",
    "            ```\n",
    "\n",
    "        2. `clientes` (diccionario): Un atributo para llevar un registro de los clientes de la tienda. Cada cliente debe ser representado como un diccionario con las siguientes claves: `'nombre'` y `'email'`. Al inicio deberá ser un diccionario vacío. Además, cada cliente debe tener un historial de compras. Deberá parecerse a:\n",
    "\n",
    "            ```python\n",
    "            {'Cliente1': {'email': 'cliente1@email.com', 'compras': []},\n",
    "            'Cliente2': {'email': 'cliente2@email.com', 'compras': []}}\n",
    "            ```\n",
    "\n",
    "        3. `ventas_totales` (float): Un atributo para llevar un registro de las ventas totales de la tienda. Inicializalo con valor 0."
   ]
  },
  {
   "cell_type": "code",
   "execution_count": 7,
   "metadata": {},
   "outputs": [
    {
     "name": "stdout",
     "output_type": "stream",
     "text": [
      "Inventario: []\n",
      "Clientes: {}\n",
      "Clieventas_totales: 0.0\n"
     ]
    }
   ],
   "source": [
    "class TiendaOnline:\n",
    "    def __init__(self):\n",
    "\n",
    "        self.inventario =[]         #Empezamos con dicc vacio\n",
    "        self.clientes = {}          #dicc clientes vacio\n",
    "        self.ventas_totales = 0.0    #ventas totales en 0.0(float)\n",
    "\n",
    "tienda = TiendaOnline()\n",
    "print(\"Inventario:\", tienda.inventario)\n",
    "print(\"Clientes:\", tienda.clientes)\n",
    "print(\"Clieventas_totales:\", tienda.ventas_totales)       #esto lo hago para comprobar si inicialice bien la clase"
   ]
  },
  {
   "cell_type": "code",
   "execution_count": 3,
   "metadata": {},
   "outputs": [
    {
     "name": "stdout",
     "output_type": "stream",
     "text": [
      "Nuevo producto agregado: {'nombre': 'camisa', 'precio': 20, 'cantidad': 40}\n",
      "Nuevo producto agregado: {'nombre': 'pantalon', 'precio': 30, 'cantidad': 30}\n",
      "Inventario correcto es: [{'nombre': 'camisa', 'precio': 20, 'cantidad': 40}, {'nombre': 'pantalon', 'precio': 30, 'cantidad': 30}]\n"
     ]
    }
   ],
   "source": [
    "# Defino la clase TiendaOnline\n",
    "class TiendaOnline:\n",
    "    def __init__(self):\n",
    "        self.inventario = []        # Creamos un inventario vacío al inicio\n",
    "                  \n",
    "    \n",
    "    def agregar_producto(self, nombre, precio, cantidad):     #Metodo para agregar un producto en inventario\n",
    "        # Recorremos el inventario para ver si el producto ya existe en mi lista\n",
    "        for producto in self.inventario:\n",
    "            if producto['nombre'] == nombre:\n",
    "                producto['cantidad'] += cantidad          #si ya existiese actulizamos la cantidad\n",
    "                print(f\"Producto actualizado: {producto}\")  \n",
    "                return                                      #consigo salir del metodo con el return, por que actualice mi producto.(linea anterior +=)\n",
    "      \n",
    "         \n",
    "        nuevo_producto = {'nombre': nombre, 'precio': precio, 'cantidad': cantidad}  # Si no existe, creamos un nuevo producto\n",
    "        self.inventario.append(nuevo_producto)                       #Aqui utilizo un apeend para agregar mi dicc a la lista de inventario.\n",
    "        print(f\"Nuevo producto agregado: {nuevo_producto}\")  # nos muestra el  producto agregado\n",
    "             \n",
    "\n",
    "tienda = TiendaOnline()                   #creo esta instancia para poder crear mis productos camisa ,pantalon.\n",
    "\n",
    "tienda.agregar_producto(\"camisa\", 20, 40)        #Añado  camisa al inventario\n",
    "tienda.agregar_producto(\"pantalon\", 30, 30)       #Añado pantalon al inventario\n",
    "\n",
    "#Imprimo el inentario  de tienda inventario asi sabre siestan bien agregados\n",
    "print(\"Inventario correcto es:\", tienda.inventario)"
   ]
  },
  {
   "cell_type": "code",
   "execution_count": 13,
   "metadata": {},
   "outputs": [
    {
     "ename": "AttributeError",
     "evalue": "'TiendaOnline' object has no attribute 'registar_clientes'",
     "output_type": "error",
     "traceback": [
      "\u001b[0;31m---------------------------------------------------------------------------\u001b[0m",
      "\u001b[0;31mAttributeError\u001b[0m                            Traceback (most recent call last)",
      "Cell \u001b[0;32mIn[13], line 14\u001b[0m\n\u001b[1;32m     11\u001b[0m          \u001b[38;5;28mprint\u001b[39m(\u001b[38;5;124m\"\u001b[39m\u001b[38;5;124mEl clientes esta registrado con exito:\u001b[39m\u001b[38;5;124m\"\u001b[39m,{\u001b[38;5;28mself\u001b[39m\u001b[38;5;241m.\u001b[39mclientes[nombre]}) \n\u001b[1;32m     13\u001b[0m tienda \u001b[38;5;241m=\u001b[39m TiendaOnline()\n\u001b[0;32m---> 14\u001b[0m tienda\u001b[38;5;241m.\u001b[39mregistar_clientes()\n",
      "\u001b[0;31mAttributeError\u001b[0m: 'TiendaOnline' object has no attribute 'registar_clientes'"
     ]
    }
   ],
   "source": [
    "class TiendaOnline:\n",
    "    def __init__(self):\n",
    "\n",
    "        self.clientes = {}\n",
    "\n",
    "    def registrar_clientes(self, nombre, mail):            #Aqui tengo mi metodo de registrar clientes\n",
    "         \n",
    "         if nombre not in self.clientes:                    #Verifico si esta o no en mi dicc de clientes y si no esta...paso a:\n",
    "              self.clientes [nombre] = {'mail': mail, 'compras': []}      #crear un nueno cliente con mail y lista vacia compras\n",
    "               \n",
    "         print(\"El clientes esta registrado con exito:\",{self.clientes[nombre]}) \n",
    "\n",
    "tienda = TiendaOnline()\n",
    "tienda.registar_clientes()"
   ]
  }
 ],
 "metadata": {
  "kernelspec": {
   "display_name": "base",
   "language": "python",
   "name": "python3"
  },
  "language_info": {
   "codemirror_mode": {
    "name": "ipython",
    "version": 3
   },
   "file_extension": ".py",
   "mimetype": "text/x-python",
   "name": "python",
   "nbconvert_exporter": "python",
   "pygments_lexer": "ipython3",
   "version": "3.11.7"
  }
 },
 "nbformat": 4,
 "nbformat_minor": 2
}
